{
 "cells": [
  {
   "cell_type": "code",
   "execution_count": null,
   "metadata": {
    "collapsed": false,
    "deletable": true,
    "editable": true
   },
   "outputs": [],
   "source": [
    "import os\n",
    "import sys\n",
    "import re\n",
    "import time\n",
    "import matplotlib\n",
    "import matplotlib.pyplot as plt\n",
    "import random\n",
    "\n",
    "parentPath = os.path.abspath(\"../..\")\n",
    "if parentPath not in sys.path:\n",
    "    sys.path.insert(0, parentPath)\n",
    "\n",
    "import model as modellib\n",
    "import visualize\n",
    "from model import log\n",
    "\n",
    "%matplotlib inline \n",
    "\n",
    "# Root directory of the project\n",
    "ROOT_DIR = parentPath\n",
    "\n",
    "# Directory to save logs and trained model\n",
    "MODEL_DIR = os.path.join(ROOT_DIR, \"logs\")\n",
    "\n",
    "SCENENN_DIR = \"/external_datasets/SceneNet_RGBD\"\n",
    "\n",
    "# import SceneNet\n",
    "from dataset import *\n",
    "\n",
    "def get_ax(rows=1, cols=1, size=8):\n",
    "    \"\"\"Return a Matplotlib Axes array to be used in\n",
    "    all visualizations in the notebook. Provide a\n",
    "    central point to control graph sizes.\n",
    "    \n",
    "    Change the default size attribute to control the size\n",
    "    of rendered images\n",
    "    \"\"\"\n",
    "    _, ax = plt.subplots(rows, cols, figsize=(size*cols, size*rows))\n",
    "    return ax"
   ]
  },
  {
   "cell_type": "code",
   "execution_count": null,
   "metadata": {
    "collapsed": false,
    "deletable": true,
    "editable": true
   },
   "outputs": [],
   "source": [
    "# Validation dataset\n",
    "dataset_test = Dataset()\n",
    "dataset_test.load(\"validation\")\n",
    "dataset_test.prepare()"
   ]
  },
  {
   "cell_type": "markdown",
   "metadata": {
    "deletable": true,
    "editable": true
   },
   "source": [
    "## Detection"
   ]
  },
  {
   "cell_type": "code",
   "execution_count": null,
   "metadata": {
    "collapsed": false,
    "deletable": true,
    "editable": true
   },
   "outputs": [],
   "source": [
    "class InferenceConfig(Config):\n",
    "    GPU_COUNT = 1\n",
    "    IMAGES_PER_GPU = 1\n",
    "\n",
    "config = InferenceConfig()\n",
    "# Recreate the model in inference mode\n",
    "model = modellib.MaskRCNN(mode=\"inference\", config=config, model_dir=MODEL_DIR)\n",
    "# model.load_weights(model.find_last()[1], by_name=True)\n",
    "# model.load_weights(os.path.join(MODEL_DIR, \"seg_scenenet20171121T1912/mask_rcnn_seg_scenenet_0624.h5\"), by_name=True)\n",
    "model.load_weights(os.path.join(MODEL_DIR, \"seg_scenenet_classes20171121T1912/mask_rcnn_seg_scenenet_classes_0628.h5\"), by_name=True)"
   ]
  },
  {
   "cell_type": "code",
   "execution_count": null,
   "metadata": {
    "collapsed": false,
    "deletable": true,
    "editable": true
   },
   "outputs": [],
   "source": [
    "import colorsys\n",
    "import cv2\n",
    "\n",
    "# Test on a random image\n",
    "image_id = random.choice(dataset_test.image_ids)\n",
    "# image_id = 58992\n",
    "image_id = 18190\n",
    "# image_id = 216203\n",
    "# image_id = 10926\n",
    "print(image_id)\n",
    "\n",
    "REND_DIR = \"rend_2\"\n",
    "\n",
    "hsv = [(float(i) / 14, 1, 0.7) for i in range(14)]\n",
    "colors = list(map(lambda c: colorsys.hsv_to_rgb(*c), hsv))\n",
    "\n",
    "for i in range(image_id, image_id + 15):\n",
    "    original_image, image_meta, class_ids, bbox, mask=\\\n",
    "        modellib.load_image_gt(dataset_test, config,\n",
    "                               i, use_mini_mask=False)\n",
    "    image = original_image[:, :, 0:3]\n",
    "\n",
    "    masked_img = visualize.display_instances(image, bbox, mask, class_ids, dataset_test.class_names, figsize=(8, 8), colors=colors)\n",
    "    masked_img = cv2.cvtColor(masked_img, cv2.COLOR_BGR2RGB)\n",
    "    cv2.imwrite(os.path.join(REND_DIR, dataset_test.image_info[i]['file_name']) + '.jpg', masked_img)\n",
    "    \n",
    "    r = model.detect([original_image])[0]\n",
    "    \n",
    "    masked_img_det = visualize.display_instances(image, r['rois'], r['masks'], r['class_ids'], \n",
    "                    dataset_test.class_names, r['scores'], ax=get_ax(), colors=colors)\n",
    "    masked_img_det = cv2.cvtColor(masked_img_det, cv2.COLOR_BGR2RGB)\n",
    "    cv2.imwrite(os.path.join(REND_DIR, \"det_\" + dataset_test.image_info[i]['file_name']) + '.jpg', masked_img_det)"
   ]
  }
 ],
 "metadata": {
  "kernelspec": {
   "display_name": "Python 3",
   "language": "python",
   "name": "python3"
  },
  "language_info": {
   "codemirror_mode": {
    "name": "ipython",
    "version": 3
   },
   "file_extension": ".py",
   "mimetype": "text/x-python",
   "name": "python",
   "nbconvert_exporter": "python",
   "pygments_lexer": "ipython3",
   "version": "3.5.2"
  }
 },
 "nbformat": 4,
 "nbformat_minor": 2
}
