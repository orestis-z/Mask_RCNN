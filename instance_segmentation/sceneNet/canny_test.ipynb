{
 "cells": [
  {
   "cell_type": "code",
   "execution_count": null,
   "metadata": {
    "collapsed": false,
    "deletable": true,
    "editable": true
   },
   "outputs": [],
   "source": [
    "import os\n",
    "import cv2\n",
    "import skimage.io\n",
    "import numpy as np\n",
    "from matplotlib import pyplot as plt\n",
    "\n",
    "path = '/external_datasets/SceneNet_RGBD/training/0/180'\n",
    "file = '3550.jpg'\n",
    "img = skimage.io.imread(os.path.join(path, 'photo', file))\n",
    "\n",
    "var = 0.1\n",
    "sigma = var**0.5\n",
    "gauss = np.random.normal(0, sigma, img.shape)\n",
    "gauss = gauss.reshape(*img.shape)\n",
    "# img = img + gauss\n",
    "\n",
    "img = np.uint8(img)\n",
    "\n",
    "edges = cv2.Canny(img,100,130)\n",
    "\n",
    "plt.imshow(img,cmap = 'gray')\n",
    "plt.title('Original Image'), plt.xticks([]), plt.yticks([])\n",
    "plt.show()\n",
    "plt.imshow(edges,cmap = 'gray')\n",
    "plt.title('Edge Image'), plt.xticks([]), plt.yticks([])\n",
    "plt.show()\n",
    "\n",
    "path = '../custom_data/static_images'\n",
    "\n",
    "# file = 'depth10.png'\n",
    "# depth = skimage.io.imread(os.path.join(path, file))\n",
    "# img = np.uint8(depth / np.max(depth) * 255)\n",
    "# edges = cv2.Canny(img,100,200)\n",
    "# plt.imshow(img,cmap = 'gray')\n",
    "# plt.title('Original Image'), plt.xticks([]), plt.yticks([])\n",
    "# plt.show()\n",
    "# plt.imshow(edges,cmap = 'gray')\n",
    "# plt.title('Edge Image'), plt.xticks([]), plt.yticks([])\n",
    "# plt.show()\n",
    "\n",
    "file = 'RGB10.jpg'\n",
    "img = skimage.io.imread(os.path.join(path, file))\n",
    "img = np.uint8(img)\n",
    "edges = cv2.Canny(img,100,200)\n",
    "\n",
    "plt.imshow(img,cmap = 'gray')\n",
    "plt.title('Original Image'), plt.xticks([]), plt.yticks([])\n",
    "plt.show()\n",
    "plt.imshow(edges,cmap = 'gray')\n",
    "plt.title('Edge Image'), plt.xticks([]), plt.yticks([])\n",
    "plt.show()"
   ]
  }
 ],
 "metadata": {
  "kernelspec": {
   "display_name": "Python 3",
   "language": "python",
   "name": "python3"
  },
  "language_info": {
   "codemirror_mode": {
    "name": "ipython",
    "version": 3
   },
   "file_extension": ".py",
   "mimetype": "text/x-python",
   "name": "python",
   "nbconvert_exporter": "python",
   "pygments_lexer": "ipython3",
   "version": "3.5.2"
  }
 },
 "nbformat": 4,
 "nbformat_minor": 2
}
