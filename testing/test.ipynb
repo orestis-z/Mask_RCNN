{
 "cells": [
  {
   "cell_type": "code",
   "execution_count": 1,
   "metadata": {
    "collapsed": false,
    "deletable": true,
    "editable": true
   },
   "outputs": [
    {
     "name": "stderr",
     "output_type": "stream",
     "text": [
      "Using TensorFlow backend.\n"
     ]
    }
   ],
   "source": [
    "import os\n",
    "import sys\n",
    "import re\n",
    "import time\n",
    "import matplotlib\n",
    "import matplotlib.pyplot as plt\n",
    "import random\n",
    "\n",
    "parentPath = os.path.abspath(\"..\")\n",
    "if parentPath not in sys.path:\n",
    "    sys.path.insert(0, parentPath)\n",
    "\n",
    "import model as modellib\n",
    "import visualize\n",
    "from model import log\n",
    "\n",
    "%matplotlib inline \n",
    "\n",
    "# Root directory of the project\n",
    "ROOT_DIR = parentPath\n",
    "\n",
    "# Directory to save logs and trained model\n",
    "MODEL_DIR = os.path.join(ROOT_DIR, \"logs\")\n",
    "\n",
    "# WEIGHTS_DIR = os.path.join(MODEL_DIR, \"seg_ade20k20171109T1726\")\n",
    "WEIGHTS_DIR = os.path.join(MODEL_DIR, \"seg_scenenn20171109T1726\")\n",
    "\n",
    "SCENENN_DIR = \"/external_datasets/sceneNN\"\n",
    "# ADE20K_DIR = \"/external_datasets/ADE20K_2016_07_26\""
   ]
  },
  {
   "cell_type": "code",
   "execution_count": 2,
   "metadata": {
    "collapsed": false,
    "deletable": true,
    "editable": true
   },
   "outputs": [],
   "source": [
    "# import sceneNN\n",
    "from instance_segmentation.sceneNN.dataset import *\n",
    "# from instance_segmentation.ADE20K.dataset import *"
   ]
  },
  {
   "cell_type": "code",
   "execution_count": 3,
   "metadata": {
    "collapsed": true,
    "deletable": true,
    "editable": true
   },
   "outputs": [],
   "source": [
    "def get_ax(rows=1, cols=1, size=8):\n",
    "    \"\"\"Return a Matplotlib Axes array to be used in\n",
    "    all visualizations in the notebook. Provide a\n",
    "    central point to control graph sizes.\n",
    "    \n",
    "    Change the default size attribute to control the size\n",
    "    of rendered images\n",
    "    \"\"\"\n",
    "    _, ax = plt.subplots(rows, cols, figsize=(size*cols, size*rows))\n",
    "    return ax"
   ]
  },
  {
   "cell_type": "code",
   "execution_count": 4,
   "metadata": {
    "collapsed": false,
    "deletable": true,
    "editable": true
   },
   "outputs": [
    {
     "name": "stdout",
     "output_type": "stream",
     "text": [
      "Warning: No depth or mask found for /external_datasets/sceneNN/testing/093/image/image07475.png\n",
      "Warning: No depth or mask found for /external_datasets/sceneNN/testing/093/image/image07435.png\n",
      "Warning: No depth or mask found for /external_datasets/sceneNN/testing/093/image/image07403.png\n",
      "Warning: No depth or mask found for /external_datasets/sceneNN/testing/093/image/image07474.png\n",
      "Warning: No depth or mask found for /external_datasets/sceneNN/testing/093/image/image07451.png\n",
      "Warning: No depth or mask found for /external_datasets/sceneNN/testing/093/image/image07453.png\n",
      "Warning: No depth or mask found for /external_datasets/sceneNN/testing/082/image/image07321.png\n",
      "Warning: No depth or mask found for /external_datasets/sceneNN/testing/082/image/image07322.png\n",
      "Warning: No depth or mask found for /external_datasets/sceneNN/testing/082/image/image07344.png\n",
      "Warning: No depth or mask found for /external_datasets/sceneNN/testing/082/image/image07331.png\n",
      "Warning: No depth or mask found for /external_datasets/sceneNN/testing/213/image/image07438.png\n",
      "Warning: No depth or mask found for /external_datasets/sceneNN/testing/213/image/image07431.png\n",
      "Warning: No depth or mask found for /external_datasets/sceneNN/testing/213/image/image07462.png\n",
      "Warning: No depth or mask found for /external_datasets/sceneNN/testing/213/image/image07433.png\n",
      "Warning: No depth or mask found for /external_datasets/sceneNN/testing/069/image/image04007.png\n",
      "Warning: No depth or mask found for /external_datasets/sceneNN/testing/069/image/image04015.png\n",
      "added 2621 images for testing\n"
     ]
    }
   ],
   "source": [
    "# Validation dataset\n",
    "dataset_test = ObjectsDataset()\n",
    "dataset_test.load(SCENENN_DIR, 'testing', skip=9)\n",
    "# dataset_test.load(ADE20K_DIR, 'validation')\n",
    "dataset_test.prepare()"
   ]
  },
  {
   "cell_type": "markdown",
   "metadata": {
    "deletable": true,
    "editable": true
   },
   "source": [
    "## Detection"
   ]
  },
  {
   "cell_type": "code",
   "execution_count": 5,
   "metadata": {
    "collapsed": true,
    "deletable": true,
    "editable": true
   },
   "outputs": [],
   "source": [
    "class InferenceConfig(ObjectsConfig):\n",
    "    GPU_COUNT = 1\n",
    "    IMAGES_PER_GPU = 1\n",
    "\n",
    "inference_config = InferenceConfig()\n",
    "# Recreate the model in inference mode\n",
    "model = modellib.MaskRCNN(mode=\"inference\", config=inference_config, model_dir=MODEL_DIR)"
   ]
  },
  {
   "cell_type": "code",
   "execution_count": null,
   "metadata": {
    "collapsed": false,
    "deletable": true,
    "editable": true
   },
   "outputs": [
    {
     "name": "stdout",
     "output_type": "stream",
     "text": [
      "mask_rcnn_seg_scenenn_0056.h5:\n",
      "    1: 1838: /external_datasets/sceneNN/testing/213/image/image03618.png: 0.22857142984867096\n",
      "    2: 1815: /external_datasets/sceneNN/testing/213/image/image01234.png: 0.08571428858808108\n",
      "    3: 2552: /external_datasets/sceneNN/testing/069/image/image02867.png: 0.46785715594887733\n",
      "    4: 2146: /external_datasets/sceneNN/testing/213/image/image05955.png: 0.2450980469584465\n",
      "    5: 307: /external_datasets/sceneNN/testing/093/image/image04612.png: 0.20802005744051366\n",
      "    6: 2080: /external_datasets/sceneNN/testing/213/image/image01193.png: 0.12023460052230141\n",
      "    7: 2210: /external_datasets/sceneNN/testing/213/image/image03179.png: 0.1473484881730242\n",
      "    8: 1425: /external_datasets/sceneNN/testing/082/image/image06863.png: 0.10526315867900848\n",
      "    9: 388: /external_datasets/sceneNN/testing/093/image/image03043.png: 0.09994553728029132\n",
      "    10: 944: /external_datasets/sceneNN/testing/082/image/image06399.png: 0.3076923191547394\n",
      "    11: 869: /external_datasets/sceneNN/testing/082/image/image03676.png: 0.07843137547994652\n",
      "    12: 1499: /external_datasets/sceneNN/testing/213/image/image02514.png: 0.37142857909202576\n",
      "    13: 649: /external_datasets/sceneNN/testing/093/image/image04193.png: 0.18750000989530236\n",
      "    14: 2206: /external_datasets/sceneNN/testing/213/image/image02339.png: 0.09090909378772433\n",
      "    15: 771: /external_datasets/sceneNN/testing/082/image/image01212.png: 0.13888889271765947\n",
      "    16: 1396: /external_datasets/sceneNN/testing/082/image/image00170.png: 0.2000835422012541\n",
      "    17: 909: /external_datasets/sceneNN/testing/082/image/image05823.png: 0.3750000037252903\n",
      "    18: 1153: /external_datasets/sceneNN/testing/082/image/image06939.png: 0.18000000218550366\n",
      "    19: 1366: /external_datasets/sceneNN/testing/082/image/image05185.png: 0.18809523497309005\n",
      "    20: 739: /external_datasets/sceneNN/testing/093/image/image00844.png: 0.5714285969734192\n",
      "mAP:  0.219875520681\n",
      "mask_rcnn_seg_scenenn_0058.h5:\n",
      "    1: 932: /external_datasets/sceneNN/testing/082/image/image02963.png: 0.21254208969949473\n",
      "    2: 1564: /external_datasets/sceneNN/testing/213/image/image05659.png: 0.20738636363636365\n",
      "    3: 795: /external_datasets/sceneNN/testing/082/image/image01382.png: 0.209438868975028\n",
      "    4: 1780: /external_datasets/sceneNN/testing/213/image/image04594.png: 0.25907030089625294\n",
      "    5: 1890: /external_datasets/sceneNN/testing/213/image/image00769.png: 0.43939395248889923\n",
      "    6: 1306: /external_datasets/sceneNN/testing/082/image/image01722.png: 0.4444444477558136\n",
      "    7: 1824: /external_datasets/sceneNN/testing/213/image/image04960.png: 0.2738095335662365\n",
      "    8: 2181: /external_datasets/sceneNN/testing/213/image/image02937.png: 0.1631944442079181\n",
      "    9: 1245: /external_datasets/sceneNN/testing/082/image/image07176.png: 0.11965812618533771\n",
      "    10: 1076: /external_datasets/sceneNN/testing/082/image/image03580.png: 0.12626263002554575\n",
      "    11: 252: /external_datasets/sceneNN/testing/093/image/image04053.png: 0.08510638400912285\n",
      "    12: 1914: /external_datasets/sceneNN/testing/213/image/image05172.png: 0.16770185849496297\n",
      "    13: 1038: /external_datasets/sceneNN/testing/082/image/image06515.png: 0.387987012987013\n",
      "    14: 2057: /external_datasets/sceneNN/testing/213/image/image02036.png: 0.2358974451915576\n",
      "    15: 2165: /external_datasets/sceneNN/testing/213/image/image00651.png: 0.42857144134385244\n",
      "    16: 1509: /external_datasets/sceneNN/testing/213/image/image01537.png: 0.3777777850627899\n",
      "    17: 808: /external_datasets/sceneNN/testing/082/image/image02605.png: 0.42925170303455423\n",
      "    18: 594: /external_datasets/sceneNN/testing/093/image/image00904.png: 0.2488095232418605\n",
      "    19: 2037: /external_datasets/sceneNN/testing/213/image/image02612.png: 0.5\n",
      "    20: 426: /external_datasets/sceneNN/testing/093/image/image05284.png: 0.1785714328289032\n",
      "mAP:  0.274743767182\n",
      "mask_rcnn_seg_scenenn_0060.h5:\n",
      "    1: 2502: /external_datasets/sceneNN/testing/069/image/image02349.png: 0.2761904795964559\n",
      "    2: 1883: /external_datasets/sceneNN/testing/213/image/image03261.png: 0.0930481311152963\n",
      "    3: 1634: /external_datasets/sceneNN/testing/213/image/image02138.png: 0.08604651540517808\n",
      "    4: 2258: /external_datasets/sceneNN/testing/069/image/image01360.png: 0.20083333477377893\n",
      "    5: 1644: /external_datasets/sceneNN/testing/213/image/image01787.png: 0.14705882966518402\n",
      "    6: 437: /external_datasets/sceneNN/testing/093/image/image01568.png: 0.2954545427452434\n",
      "    7: 104: /external_datasets/sceneNN/testing/093/image/image02443.png: 0.22666666408379874\n",
      "    8: 1201: /external_datasets/sceneNN/testing/082/image/image05542.png: 0.4444444477558136\n",
      "    9: 1746: /external_datasets/sceneNN/testing/213/image/image04865.png: 0.4117647111415863\n",
      "    10: 1713: /external_datasets/sceneNN/testing/213/image/image02392.png: 0.4583333333333333\n",
      "    11: 637: /external_datasets/sceneNN/testing/093/image/image04460.png: 0.2653333274026712\n",
      "    12: 2405: /external_datasets/sceneNN/testing/069/image/image00749.png: 0.19880952686071396\n",
      "    13: 2033: /external_datasets/sceneNN/testing/213/image/image04930.png: 0.2380952388048172\n"
     ]
    }
   ],
   "source": [
    "mAPs = []\n",
    "count = 0\n",
    "for i, file in enumerate(sorted(os.listdir(WEIGHTS_DIR))):\n",
    "    if file[-3:] != '.h5':\n",
    "        continue\n",
    "    if count % 2 == 0:\n",
    "        count += 1\n",
    "        continue\n",
    "    count += 1\n",
    "    print(\"{}:\".format(file))\n",
    "    weights_path = os.path.join(WEIGHTS_DIR, file)\n",
    "    model.load_weights(weights_path, by_name=True)\n",
    "    image_ids = np.random.choice(dataset_test.image_ids, 20)\n",
    "    APs = []\n",
    "    for j, image_id in enumerate(image_ids):\n",
    "        # Load image and ground truth data\n",
    "        image_path = dataset_test.image_info[image_id]['path']\n",
    "        try:\n",
    "            image, image_meta, gt_class_id, gt_bbox, gt_mask  =\\\n",
    "                modellib.load_image_gt(dataset_test, inference_config,\n",
    "                                       image_id, use_mini_mask=False)\n",
    "            # Run object detection\n",
    "            results = model.detect([image], verbose=0)\n",
    "            r = results[0]\n",
    "            # Compute AP\n",
    "            AP, precisions, recalls, overlaps =\\\n",
    "                utils.compute_ap(gt_bbox, gt_class_id, r[\"rois\"], r[\"class_ids\"], r[\"scores\"])\n",
    "            APs.append(AP)\n",
    "            print('    {}: {}: {}: {}'.format(j + 1, image_id, image_path, AP))\n",
    "        except:\n",
    "            print(\"    Error processing image {}\".format(image_path))\n",
    "    mAP = np.mean(APs)\n",
    "    mAPs.append(mAP)\n",
    "    print(\"mAP: \", mAP)\n",
    "plt.plot(mAPs)\n",
    "plt.show()"
   ]
  }
 ],
 "metadata": {
  "kernelspec": {
   "display_name": "Python 3",
   "language": "python",
   "name": "python3"
  },
  "language_info": {
   "codemirror_mode": {
    "name": "ipython",
    "version": 3
   },
   "file_extension": ".py",
   "mimetype": "text/x-python",
   "name": "python",
   "nbconvert_exporter": "python",
   "pygments_lexer": "ipython3",
   "version": "3.5.2"
  }
 },
 "nbformat": 4,
 "nbformat_minor": 2
}
