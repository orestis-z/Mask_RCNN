{
 "cells": [
  {
   "cell_type": "code",
   "execution_count": null,
   "metadata": {
    "collapsed": false,
    "deletable": true,
    "editable": true
   },
   "outputs": [],
   "source": [
    "import os, sys\n",
    "import time\n",
    "import matplotlib\n",
    "import matplotlib.pyplot as plt\n",
    "import numpy as np\n",
    "import skimage.io\n",
    "\n",
    "parentPath = os.path.abspath(\"..\")\n",
    "if parentPath not in sys.path:\n",
    "    sys.path.insert(0, parentPath)\n",
    "\n",
    "import model as modellib\n",
    "import visualize\n",
    "from model import log\n",
    "\n",
    "%matplotlib inline \n",
    "\n",
    "# Root directory of the project\n",
    "ROOT_DIR = parentPath\n",
    "# Directory to save logs and trained model\n",
    "MODEL_DIR = os.path.join(ROOT_DIR, \"logs\")\n",
    "WEIGHTS_DIR = os.path.join(MODEL_DIR, \"mask_rcnn_seg_scenenn_0100.h5\")"
   ]
  },
  {
   "cell_type": "code",
   "execution_count": null,
   "metadata": {
    "collapsed": true,
    "deletable": true,
    "editable": true
   },
   "outputs": [],
   "source": [
    "from instance_segmentation.object_config import Config\n",
    "\n",
    "class InferenceConfig(Config):\n",
    "    MODE = 'RGBD'\n",
    "    MEAN_PIXEL = np.array([123.7, 116.8, 103.9, 1220.7])\n",
    "\n",
    "inference_config = InferenceConfig()\n",
    "# Recreate the model in inference mode\n",
    "model = modellib.MaskRCNN(mode=\"inference\", config=inference_config, model_dir=MODEL_DIR)\n",
    "model.load_weights(WEIGHTS_DIR, by_name=True)"
   ]
  },
  {
   "cell_type": "code",
   "execution_count": null,
   "metadata": {
    "collapsed": false,
    "deletable": true,
    "editable": true
   },
   "outputs": [],
   "source": [
    "IMAGE_DIR = 'image00001.png'\n",
    "DEPTH_DIR = 'depth00001.png'\n",
    "\n",
    "image = depth = skimage.io.imread(IMAGE_DIR)\n",
    "depth = skimage.io.imread(DEPTH_DIR)\n",
    "rgbd = np.dstack((image, depth))\n",
    "\n",
    "start = time.clock()\n",
    "r = model.detect([rgbd])[0]\n",
    "print(time.clock() - start)\n",
    "visualize.display_masks(image, r['masks'])"
   ]
  }
 ],
 "metadata": {
  "kernelspec": {
   "display_name": "Python 2",
   "language": "python",
   "name": "python2"
  },
  "language_info": {
   "codemirror_mode": {
    "name": "ipython",
    "version": 2
   },
   "file_extension": ".py",
   "mimetype": "text/x-python",
   "name": "python",
   "nbconvert_exporter": "python",
   "pygments_lexer": "ipython2",
   "version": "2.7.12"
  }
 },
 "nbformat": 4,
 "nbformat_minor": 2
}
